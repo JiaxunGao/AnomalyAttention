{
 "cells": [
  {
   "cell_type": "code",
   "execution_count": 2,
   "id": "9952c5d1",
   "metadata": {},
   "outputs": [],
   "source": [
    "import torch\n",
    "import torch.nn as nn\n",
    "from torch.utils.data import DataLoader, SubsetRandomSampler, TensorDataset\n",
    "import math\n",
    "import random\n",
    "\n",
    "import numpy as np\n",
    "import pickle\n",
    "import os\n",
    "import torch\n",
    "\n",
    "from sklearn.metrics import confusion_matrix, f1_score\n",
    "from sklearn.model_selection import StratifiedKFold\n",
    "from model_implementation import DeformableTokenEmbedding, GazeTransformer"
   ]
  },
  {
   "cell_type": "code",
   "execution_count": 3,
   "id": "6d6c173e",
   "metadata": {},
   "outputs": [],
   "source": [
    "train_data = pickle.load(open('train_transformer.pkl', 'rb'))\n",
    "test_data = pickle.load(open('test_transformer.pkl', 'rb'))"
   ]
  },
  {
   "cell_type": "code",
   "execution_count": null,
   "id": "d9e34021",
   "metadata": {},
   "outputs": [
    {
     "name": "stdout",
     "output_type": "stream",
     "text": [
      "(101, 1520, 3)\n",
      "(101,)\n"
     ]
    }
   ],
   "source": [
    "print(np.array(train_data['eye']).shape) # time series data of gaze_x, left_pupil_x, right_pupil_x of 101 subjects\n",
    "print(np.array(train_data['label']).shape) # labels of 101 subjects"
   ]
  },
  {
   "cell_type": "code",
   "execution_count": 15,
   "id": "8416a4b3",
   "metadata": {},
   "outputs": [],
   "source": [
    "train_eye = torch.tensor(np.array(train_data['eye']), dtype=torch.float32)\n",
    "train_label = torch.tensor(np.array(train_data['label']), dtype=torch.long)\n",
    "test_eye = torch.tensor(np.array(test_data['eye']), dtype=torch.float32)\n",
    "test_label = torch.tensor(np.array(test_data['label']), dtype=torch.long)"
   ]
  }
 ],
 "metadata": {
  "kernelspec": {
   "display_name": "test",
   "language": "python",
   "name": "python3"
  },
  "language_info": {
   "codemirror_mode": {
    "name": "ipython",
    "version": 3
   },
   "file_extension": ".py",
   "mimetype": "text/x-python",
   "name": "python",
   "nbconvert_exporter": "python",
   "pygments_lexer": "ipython3",
   "version": "3.8.19"
  }
 },
 "nbformat": 4,
 "nbformat_minor": 5
}
